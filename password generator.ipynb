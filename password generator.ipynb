{
 "cells": [
  {
   "cell_type": "code",
   "execution_count": 2,
   "id": "4095b7c6",
   "metadata": {},
   "outputs": [
    {
     "name": "stdout",
     "output_type": "stream",
     "text": [
      "Enter the desired length of the password: 10\n",
      "Generated Password: 0MjsONhqMk\n"
     ]
    }
   ],
   "source": [
    "import random\n",
    "import string\n",
    "\n",
    "def generate_password(length):\n",
    "    characters = string.ascii_letters + string.digits + string.punctuation\n",
    "    password = ''.join(random.choice(characters) for _ in range(length))\n",
    "    return password\n",
    "\n",
    "def main():\n",
    "    try:\n",
    "        length = int(input(\"Enter the desired length of the password: \"))\n",
    "        if length <= 0:\n",
    "            print(\"Please enter a positive length.\")\n",
    "            return\n",
    "        password = generate_password(length)\n",
    "        print(\"Generated Password:\", password)\n",
    "    except ValueError:\n",
    "        print(\"Invalid input. Please enter a valid integer for the length.\")\n",
    "\n",
    "if __name__ == \"__main__\":\n",
    "    main()\n"
   ]
  },
  {
   "cell_type": "code",
   "execution_count": 3,
   "id": "b76d9603",
   "metadata": {},
   "outputs": [
    {
     "name": "stdout",
     "output_type": "stream",
     "text": [
      "Enter the desired length of the password: 5\n",
      "Generated Password: 8^Ap&\n"
     ]
    }
   ],
   "source": [
    "import random\n",
    "import string\n",
    "\n",
    "def generate_password(length):\n",
    "    # Define the character sets for different complexity levels\n",
    "    lowercase_letters = string.ascii_lowercase\n",
    "    uppercase_letters = string.ascii_uppercase\n",
    "    digits = string.digits\n",
    "    special_characters = string.punctuation\n",
    "\n",
    "    # Combine all character sets based on desired complexity\n",
    "    all_characters = lowercase_letters + uppercase_letters + digits + special_characters\n",
    "\n",
    "    # Generate password using random.choice\n",
    "    password = ''.join(random.choice(all_characters) for _ in range(length))\n",
    "    return password\n",
    "\n",
    "def main():\n",
    "    # Prompt user for desired password length\n",
    "    length = int(input(\"Enter the desired length of the password: \"))\n",
    "\n",
    "    # Generate and display the password\n",
    "    password = generate_password(length)\n",
    "    print(\"Generated Password:\", password)\n",
    "\n",
    "if __name__ == \"__main__\":\n",
    "    main()\n"
   ]
  },
  {
   "cell_type": "code",
   "execution_count": 4,
   "id": "ec123eb2",
   "metadata": {},
   "outputs": [
    {
     "name": "stdout",
     "output_type": "stream",
     "text": [
      "Enter the desired length of the password: 4\n",
      "Generated Password: FKVd\n"
     ]
    }
   ],
   "source": [
    "import random\n",
    "import string\n",
    "\n",
    "def generate_password(length):\n",
    "    # Define the character sets for different complexity levels\n",
    "    lowercase_letters = string.ascii_lowercase\n",
    "    uppercase_letters = string.ascii_uppercase\n",
    "    digits = string.digits\n",
    "    special_characters = string.punctuation\n",
    "\n",
    "    # Combine all character sets based on desired complexity\n",
    "    all_characters = lowercase_letters + uppercase_letters + digits + special_characters\n",
    "\n",
    "    # Generate password using random.choice\n",
    "    password = ''.join(random.choice(all_characters) for _ in range(length))\n",
    "    return password\n",
    "\n",
    "def main():\n",
    "    # Prompt user for desired password length\n",
    "    length = int(input(\"Enter the desired length of the password: \"))\n",
    "\n",
    "    # Generate and display the password\n",
    "    password = generate_password(length)\n",
    "    print(\"Generated Password:\", password)\n",
    "\n",
    "if __name__ == \"__main__\":\n",
    "    main()\n"
   ]
  },
  {
   "cell_type": "code",
   "execution_count": null,
   "id": "1368be3c",
   "metadata": {},
   "outputs": [],
   "source": []
  }
 ],
 "metadata": {
  "kernelspec": {
   "display_name": "Python 3 (ipykernel)",
   "language": "python",
   "name": "python3"
  },
  "language_info": {
   "codemirror_mode": {
    "name": "ipython",
    "version": 3
   },
   "file_extension": ".py",
   "mimetype": "text/x-python",
   "name": "python",
   "nbconvert_exporter": "python",
   "pygments_lexer": "ipython3",
   "version": "3.11.5"
  }
 },
 "nbformat": 4,
 "nbformat_minor": 5
}
