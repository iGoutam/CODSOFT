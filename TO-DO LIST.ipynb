{
 "cells": [
  {
   "cell_type": "code",
   "execution_count": 1,
   "id": "2b01092f",
   "metadata": {},
   "outputs": [
    {
     "name": "stdout",
     "output_type": "stream",
     "text": [
      "\n",
      "1. Add Task\n",
      "2. List Tasks\n",
      "3. Exit\n",
      "Enter your choice: 1\n",
      "Enter task: writing\n",
      "\n",
      "1. Add Task\n",
      "2. List Tasks\n",
      "3. Exit\n",
      "Enter your choice: 2\n",
      "1. writing\n",
      "\n",
      "1. Add Task\n",
      "2. List Tasks\n",
      "3. Exit\n",
      "Enter your choice: 1\n",
      "Enter task: reading\n",
      "\n",
      "1. Add Task\n",
      "2. List Tasks\n",
      "3. Exit\n",
      "Enter your choice: 2\n",
      "1. writing\n",
      "2. reading\n",
      "\n",
      "1. Add Task\n",
      "2. List Tasks\n",
      "3. Exit\n",
      "Enter your choice: 3\n"
     ]
    }
   ],
   "source": [
    "tasks = []\n",
    "\n",
    "def add_task(task):\n",
    "    tasks.append(task)\n",
    "\n",
    "def list_tasks():\n",
    "    for index, task in enumerate(tasks):\n",
    "        print(f\"{index + 1}. {task}\")\n",
    "\n",
    "def main():\n",
    "    while True:\n",
    "        print(\"\\n1. Add Task\\n2. List Tasks\\n3. Exit\")\n",
    "        choice = input(\"Enter your choice: \")\n",
    "\n",
    "        if choice == '1':\n",
    "            task = input(\"Enter task: \")\n",
    "            add_task(task)\n",
    "        elif choice == '2':\n",
    "            list_tasks()\n",
    "        elif choice == '3':\n",
    "            break\n",
    "        else:\n",
    "            print(\"Invalid choice. Please try again.\")\n",
    "\n",
    "if __name__ == \"__main__\":\n",
    "    main()\n"
   ]
  },
  {
   "cell_type": "code",
   "execution_count": null,
   "id": "5d4246c6",
   "metadata": {},
   "outputs": [],
   "source": []
  }
 ],
 "metadata": {
  "kernelspec": {
   "display_name": "Python 3 (ipykernel)",
   "language": "python",
   "name": "python3"
  },
  "language_info": {
   "codemirror_mode": {
    "name": "ipython",
    "version": 3
   },
   "file_extension": ".py",
   "mimetype": "text/x-python",
   "name": "python",
   "nbconvert_exporter": "python",
   "pygments_lexer": "ipython3",
   "version": "3.11.5"
  }
 },
 "nbformat": 4,
 "nbformat_minor": 5
}
